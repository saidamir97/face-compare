{
 "cells": [
  {
   "cell_type": "code",
   "execution_count": 1,
   "metadata": {},
   "outputs": [],
   "source": [
    "import os, io\n",
    "from google.cloud import vision_v1\n",
    "import pandas as pd\n",
    "import urllib"
   ]
  },
  {
   "cell_type": "code",
   "execution_count": 2,
   "metadata": {},
   "outputs": [],
   "source": [
    "os.environ['GOOGLE_APPLICATION_CREDENTIALS'] = r'C:\\Users\\User\\Desktop\\OCR_Pr\\OCR.json'"
   ]
  },
  {
   "cell_type": "code",
   "execution_count": 3,
   "metadata": {},
   "outputs": [],
   "source": [
    "client = vision_v1.ImageAnnotatorClient()"
   ]
  },
  {
   "cell_type": "code",
   "execution_count": 4,
   "metadata": {},
   "outputs": [],
   "source": [
    "file_name = \"sample_5.jpg\"\n",
    "image_path = r\"C:\\Users\\User\\Desktop\\face_compare\"\n",
    "path = os.path.join(image_path, file_name)\n",
    "pasp_list = pd.read_csv(\"passports_face_and_passport.csv\")\n",
    "pasp_arr = pasp_list[\"CONCAT('https://storage.alifshop.uz',url)\"]"
   ]
  },
  {
   "cell_type": "code",
   "execution_count": 6,
   "metadata": {},
   "outputs": [
    {
     "name": "stdout",
     "output_type": "stream",
     "text": [
      "Cannot recognize #10\n",
      "Cannot recognize #11\n",
      "Cannot recognize #12\n",
      "Human with passport detected #13\n",
      "Cannot recognize #14\n",
      "Human with passport detected #15\n",
      "Cannot recognize #16\n",
      "Human with passport detected #17\n",
      "Cannot recognize #18\n",
      "Human with passport detected #19\n",
      "Cannot recognize #20\n",
      "Cannot recognize #21\n",
      "Cannot recognize #22\n",
      "Cannot recognize #23\n",
      "Cannot recognize #24\n",
      "Human with passport detected #25\n",
      "Human with passport detected #26\n",
      "Cannot recognize #27\n",
      "Human with passport detected #28\n",
      "Human with passport detected #29\n",
      "Cannot recognize #30\n",
      "Human with passport detected #31\n",
      "Human with passport detected #32\n",
      "Cannot recognize #33\n",
      "Human with passport detected #34\n",
      "Cannot recognize #35\n",
      "Cannot recognize #36\n",
      "Cannot recognize #37\n",
      "Cannot recognize #38\n",
      "Human with passport detected #39\n",
      "Cannot recognize #40\n",
      "Cannot recognize #41\n",
      "Cannot recognize #42\n",
      "Human with passport detected #43\n",
      "Cannot recognize #44\n",
      "Cannot recognize #45\n",
      "Human with passport detected #46\n",
      "Human with passport detected #47\n",
      "Cannot recognize #48\n",
      "Cannot recognize #49\n"
     ]
    }
   ],
   "source": [
    "for i in range(10, 50):\n",
    "    urllib.request.urlretrieve(pasp_arr[i], \"sample_%d.jpg\" % i)\n",
    "    with io.open(\"sample_%d.jpg\" % i, 'rb') as image_file:\n",
    "        content = image_file.read()\n",
    "    image = vision_v1.types.Image(content=content)\n",
    "    response = client.label_detection(image=image, max_results=20)\n",
    "    labels = response.label_annotations\n",
    "\n",
    "    df = pd.DataFrame(columns=[\"description\", \"score\"])\n",
    "    for label in labels:\n",
    "        df = df.append(\n",
    "            dict(\n",
    "                description = label.description,\n",
    "                score = label.score\n",
    "                ), ignore_index=True\n",
    "            )\n",
    "    \n",
    "    check_list_1 = [\"Human\", \"Forehead\"]\n",
    "    checl_list_2 = [\"Identity document\", \"Document\"]\n",
    "    result_1 = df.isin(check_list_1).any().any()\n",
    "    if result_1:\n",
    "        result_2 = df.isin(checl_list_2).any().any()\n",
    "        if result_2:\n",
    "            print(\"Human with passport detected #%d\" % i) #дальше идет респонс - изображение валидно\n",
    "        else:\n",
    "            print(\"Cannot recognize #%d\" % i)\n",
    "    else:\n",
    "        print(\"Cannot recognize #%d\" % i)"
   ]
  },
  {
   "cell_type": "code",
   "execution_count": null,
   "metadata": {},
   "outputs": [],
   "source": []
  }
 ],
 "metadata": {
  "kernelspec": {
   "display_name": "Python 3",
   "language": "python",
   "name": "python3"
  },
  "language_info": {
   "codemirror_mode": {
    "name": "ipython",
    "version": 3
   },
   "file_extension": ".py",
   "mimetype": "text/x-python",
   "name": "python",
   "nbconvert_exporter": "python",
   "pygments_lexer": "ipython3",
   "version": "3.8.5"
  }
 },
 "nbformat": 4,
 "nbformat_minor": 4
}
