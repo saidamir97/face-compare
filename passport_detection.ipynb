{
 "metadata": {
  "language_info": {
   "codemirror_mode": {
    "name": "ipython",
    "version": 3
   },
   "file_extension": ".py",
   "mimetype": "text/x-python",
   "name": "python",
   "nbconvert_exporter": "python",
   "pygments_lexer": "ipython3",
   "version": "3.8.4-final"
  },
  "orig_nbformat": 2,
  "kernelspec": {
   "name": "python3",
   "display_name": "Python 3"
  }
 },
 "nbformat": 4,
 "nbformat_minor": 2,
 "cells": [
  {
   "cell_type": "code",
   "execution_count": 1,
   "metadata": {},
   "outputs": [],
   "source": [
    "import os, io\n",
    "from google.cloud import vision_v1\n",
    "import pandas as pd\n",
    "import urllib"
   ]
  },
  {
   "cell_type": "code",
   "execution_count": 2,
   "metadata": {},
   "outputs": [],
   "source": [
    "os.environ['GOOGLE_APPLICATION_CREDENTIALS'] = r'C:\\Users\\User\\Desktop\\OCR_Pr\\OCR.json'"
   ]
  },
  {
   "cell_type": "code",
   "execution_count": 3,
   "metadata": {},
   "outputs": [],
   "source": [
    "client = vision_v1.ImageAnnotatorClient()"
   ]
  },
  {
   "cell_type": "code",
   "execution_count": 8,
   "metadata": {},
   "outputs": [],
   "source": [
    "file_name = \"sample_10.jpg\"\n",
    "image_path = r\"C:\\Users\\User\\Desktop\\face_compare\"\n",
    "path = os.path.join(image_path, file_name)\n",
    "pasp_list = pd.read_csv(\"passports_1000.csv\")\n",
    "pasp_arr = pasp_list[\"passports\"]"
   ]
  },
  {
   "cell_type": "code",
   "execution_count": 9,
   "metadata": {},
   "outputs": [
    {
     "output_type": "execute_result",
     "data": {
      "text/plain": [
       "         description     score\n",
       "0             Finger  0.979326\n",
       "1              Thumb  0.834232\n",
       "2               Nail  0.759287\n",
       "3              Paper  0.745354\n",
       "4           Document  0.634817\n",
       "5        Publication  0.575816\n",
       "6  Identity document  0.543450\n",
       "7      Paper product  0.528090"
      ],
      "text/html": "<div>\n<style scoped>\n    .dataframe tbody tr th:only-of-type {\n        vertical-align: middle;\n    }\n\n    .dataframe tbody tr th {\n        vertical-align: top;\n    }\n\n    .dataframe thead th {\n        text-align: right;\n    }\n</style>\n<table border=\"1\" class=\"dataframe\">\n  <thead>\n    <tr style=\"text-align: right;\">\n      <th></th>\n      <th>description</th>\n      <th>score</th>\n    </tr>\n  </thead>\n  <tbody>\n    <tr>\n      <th>0</th>\n      <td>Finger</td>\n      <td>0.979326</td>\n    </tr>\n    <tr>\n      <th>1</th>\n      <td>Thumb</td>\n      <td>0.834232</td>\n    </tr>\n    <tr>\n      <th>2</th>\n      <td>Nail</td>\n      <td>0.759287</td>\n    </tr>\n    <tr>\n      <th>3</th>\n      <td>Paper</td>\n      <td>0.745354</td>\n    </tr>\n    <tr>\n      <th>4</th>\n      <td>Document</td>\n      <td>0.634817</td>\n    </tr>\n    <tr>\n      <th>5</th>\n      <td>Publication</td>\n      <td>0.575816</td>\n    </tr>\n    <tr>\n      <th>6</th>\n      <td>Identity document</td>\n      <td>0.543450</td>\n    </tr>\n    <tr>\n      <th>7</th>\n      <td>Paper product</td>\n      <td>0.528090</td>\n    </tr>\n  </tbody>\n</table>\n</div>"
     },
     "metadata": {},
     "execution_count": 9
    }
   ],
   "source": [
    "with io.open(path, 'rb') as image_file:\n",
    "    content = image_file.read()\n",
    "image = vision_v1.types.Image(content=content)\n",
    "response = client.label_detection(image=image, max_results=20)\n",
    "labels = response.label_annotations\n",
    "\n",
    "df = pd.DataFrame(columns=[\"description\", \"score\"])\n",
    "for label in labels:\n",
    "    df = df.append(\n",
    "        dict(\n",
    "                description = label.description,\n",
    "                score = label.score\n",
    "                ), ignore_index=True\n",
    "            )\n",
    "    \n",
    "df\n",
    "#check_list = [\"Identity document\"]\n",
    "#result = df.isin(check_list).any().any()\n",
    "#if result:\n",
    "    #print(\"Passport detected #%d\" % i) #идет респонс - \"изображение валидно\". дальше работает\n",
    "#else:\n",
    "    #print(\"Cannot recognize #%d\" % i)"
   ]
  },
  {
   "source": [
    "for i in range(10, 50):\n",
    "    urllib.request.urlretrieve(pasp_arr[i], \"sample_%d.jpg\" % i)\n",
    "    with io.open(\"sample_%d.jpg\" % i, 'rb') as image_file:\n",
    "        content = image_file.read()\n",
    "    image = vision_v1.types.Image(content=content)\n",
    "    response = client.label_detection(image=image, max_results=20)\n",
    "    labels = response.label_annotations\n",
    "\n",
    "    df = pd.DataFrame(columns=[\"description\", \"score\"])\n",
    "    for label in labels:\n",
    "        df = df.append(\n",
    "            dict(\n",
    "                description = label.description,\n",
    "                score = label.score\n",
    "                ), ignore_index=True\n",
    "            )\n",
    "    \n",
    "    check_list = [\"Identity document\"]\n",
    "    result = df.isin(check_list).any().any()\n",
    "    if result:\n",
    "        print(\"Passport detected #%d\" % i) #идет респонс - \"изображение валидно\". дальше работает\n",
    "    else:\n",
    "        print(\"Cannot recognize #%d\" % i) #Пасспорт не опознан, изображение не валидно"
   ],
   "cell_type": "code",
   "metadata": {},
   "execution_count": 5,
   "outputs": [
    {
     "output_type": "stream",
     "name": "stdout",
     "text": [
      "Passport detected #10\n",
      "Passport detected #11\n",
      "Passport detected #12\n",
      "Passport detected #13\n",
      "Passport detected #14\n",
      "Passport detected #15\n",
      "Passport detected #16\n",
      "Passport detected #17\n",
      "Passport detected #18\n",
      "Passport detected #19\n",
      "Passport detected #20\n",
      "Passport detected #21\n",
      "Passport detected #22\n",
      "Passport detected #23\n",
      "Passport detected #24\n",
      "Passport detected #25\n",
      "Passport detected #26\n",
      "Passport detected #27\n",
      "Passport detected #28\n",
      "Passport detected #29\n",
      "Cannot recognize #30\n",
      "Passport detected #31\n",
      "Passport detected #32\n",
      "Passport detected #33\n",
      "Passport detected #34\n",
      "Passport detected #35\n",
      "Passport detected #36\n",
      "Passport detected #37\n",
      "Passport detected #38\n",
      "Passport detected #39\n",
      "Passport detected #40\n",
      "Passport detected #41\n",
      "Cannot recognize #42\n",
      "Passport detected #43\n",
      "Passport detected #44\n",
      "Passport detected #45\n",
      "Cannot recognize #46\n",
      "Passport detected #47\n",
      "Passport detected #48\n",
      "Passport detected #49\n"
     ]
    }
   ]
  }
 ]
}